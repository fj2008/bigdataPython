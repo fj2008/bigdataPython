{
 "cells": [
  {
   "cell_type": "markdown",
   "id": "eb0887a1",
   "metadata": {},
   "source": [
    "# selenium으로 DOM에 접근하는 방법\n",
    "\n",
    "- 단일 객체 반환(bs4의 find()와 같은 형태)\n",
    "    - find_element_by_id\n",
    "    - find_element_by_tag_name\n",
    "    - find_element_by_xpath\n",
    "    - find_element_by_link_text\n",
    "    - find_element_by_partial_link_text\n",
    "    - find_element_by_name\n",
    "    - find_element_by_class_name\n",
    "    - find_element_by_css_selector\n",
    "\n",
    "- 리스트 객체 반환(bs4의 find_all()과 같은 형태)\n",
    "    - find_elements_by_tag_name\n",
    "    - find_elements_by_xpath\n",
    "    - find_elements_by_link_text\n",
    "    - find_elements_by_partial_link_text\n",
    "    - find_elements_by_name\n",
    "    - find_elements_by_class_name\n",
    "    - find_elements_by_css_selector"
   ]
  },
  {
   "cell_type": "code",
   "execution_count": 23,
   "id": "463bd927",
   "metadata": {},
   "outputs": [],
   "source": [
    "from selenium import webdriver\n",
    "from selenium.webdriver.common.keys import Keys\n",
    "import time"
   ]
  },
  {
   "cell_type": "code",
   "execution_count": 4,
   "id": "e0b43e90",
   "metadata": {},
   "outputs": [],
   "source": [
    "driver = webdriver.Chrome('chromedriver')"
   ]
  },
  {
   "cell_type": "code",
   "execution_count": 5,
   "id": "a4e15d14",
   "metadata": {},
   "outputs": [],
   "source": [
    "# 웹 접속하기\n",
    "url = 'http://www.naver.com'\n",
    "\n",
    "driver = webdriver.Chrome('chromedriver')\n",
    "\n",
    "driver.get(url)"
   ]
  },
  {
   "cell_type": "code",
   "execution_count": 6,
   "id": "4193526c",
   "metadata": {},
   "outputs": [],
   "source": [
    "url = 'http://pjt3591oo.github.io'\n",
    "\n",
    "driver = webdriver.Chrome('chromedriver')\n",
    "\n",
    "driver.get(url)"
   ]
  },
  {
   "cell_type": "code",
   "execution_count": 7,
   "id": "76b3ee42",
   "metadata": {},
   "outputs": [
    {
     "name": "stderr",
     "output_type": "stream",
     "text": [
      "<ipython-input-7-0432d1d9b48d>:1: DeprecationWarning: find_element_by_* commands are deprecated. Please use find_element() instead\n",
      "  selector = driver.find_element_by_css_selector('div.p')\n"
     ]
    }
   ],
   "source": [
    "selector = driver.find_element_by_css_selector('div.p')"
   ]
  },
  {
   "cell_type": "code",
   "execution_count": 8,
   "id": "6a1f6f8f",
   "metadata": {},
   "outputs": [
    {
     "name": "stdout",
     "output_type": "stream",
     "text": [
      "<selenium.webdriver.remote.webelement.WebElement (session=\"305d94f8be8b000a32a683d5665dca36\", element=\"3fab0577-4205-473b-b2b9-f4830d64ec80\")>\n",
      "div\n",
      "[programming] [react] react 작업환경 설\n",
      "react를 시작하기 전에 환경셋팅을 해보자\n",
      "2017-05-20 06:29:05 +0000   |   박정태\n"
     ]
    }
   ],
   "source": [
    "print(selector)\n",
    "print(selector.tag_name)\n",
    "print(selector.text)"
   ]
  },
  {
   "cell_type": "markdown",
   "id": "fa319755",
   "metadata": {},
   "source": [
    "# 없는 요소 접근\n",
    "\n",
    "- bs4와는 다르게 없는 요소에 접근하면 에러를 띄움"
   ]
  },
  {
   "cell_type": "code",
   "execution_count": 9,
   "id": "cd460f96",
   "metadata": {
    "scrolled": true
   },
   "outputs": [
    {
     "name": "stderr",
     "output_type": "stream",
     "text": [
      "<ipython-input-9-fbbe54bff90f>:1: DeprecationWarning: find_element_by_* commands are deprecated. Please use find_element() instead\n",
      "  driver.find_element_by_css_selector('.a')\n"
     ]
    },
    {
     "ename": "NoSuchElementException",
     "evalue": "Message: no such element: Unable to locate element: {\"method\":\"css selector\",\"selector\":\".a\"}\n  (Session info: chrome=95.0.4638.54)\nStacktrace:\nBacktrace:\n\tOrdinal0 [0x00B206F3+2492147]\n\tOrdinal0 [0x00AB9BD1+2071505]\n\tOrdinal0 [0x009C2478+1057912]\n\tOrdinal0 [0x009EC964+1231204]\n\tOrdinal0 [0x00A16B62+1403746]\n\tOrdinal0 [0x00A057FA+1333242]\n\tOrdinal0 [0x00A14F38+1396536]\n\tOrdinal0 [0x00A0568B+1332875]\n\tOrdinal0 [0x009E21D4+1188308]\n\tOrdinal0 [0x009E302F+1191983]\n\tGetHandleVerifier [0x00CA67A6+1545030]\n\tGetHandleVerifier [0x00D5105C+2243580]\n\tGetHandleVerifier [0x00BABC97+518199]\n\tGetHandleVerifier [0x00BAAD80+514336]\n\tOrdinal0 [0x00ABED2D+2092333]\n\tOrdinal0 [0x00AC2EE8+2109160]\n\tOrdinal0 [0x00AC3022+2109474]\n\tOrdinal0 [0x00ACCB71+2149233]\n\tBaseThreadInitThunk [0x76A1FA29+25]\n\tRtlGetAppContainerNamedObjectPath [0x774E7A9E+286]\n\tRtlGetAppContainerNamedObjectPath [0x774E7A6E+238]\n",
     "output_type": "error",
     "traceback": [
      "\u001b[1;31m---------------------------------------------------------------------------\u001b[0m",
      "\u001b[1;31mNoSuchElementException\u001b[0m                    Traceback (most recent call last)",
      "\u001b[1;32m<ipython-input-9-fbbe54bff90f>\u001b[0m in \u001b[0;36m<module>\u001b[1;34m\u001b[0m\n\u001b[1;32m----> 1\u001b[1;33m \u001b[0mdriver\u001b[0m\u001b[1;33m.\u001b[0m\u001b[0mfind_element_by_css_selector\u001b[0m\u001b[1;33m(\u001b[0m\u001b[1;34m'.a'\u001b[0m\u001b[1;33m)\u001b[0m\u001b[1;33m\u001b[0m\u001b[1;33m\u001b[0m\u001b[0m\n\u001b[0m",
      "\u001b[1;32mC:\\ProgramData\\Anaconda3\\lib\\site-packages\\selenium\\webdriver\\remote\\webdriver.py\u001b[0m in \u001b[0;36mfind_element_by_css_selector\u001b[1;34m(self, css_selector)\u001b[0m\n\u001b[0;32m    800\u001b[0m             \u001b[0mstacklevel\u001b[0m\u001b[1;33m=\u001b[0m\u001b[1;36m2\u001b[0m\u001b[1;33m,\u001b[0m\u001b[1;33m\u001b[0m\u001b[1;33m\u001b[0m\u001b[0m\n\u001b[0;32m    801\u001b[0m         )\n\u001b[1;32m--> 802\u001b[1;33m         \u001b[1;32mreturn\u001b[0m \u001b[0mself\u001b[0m\u001b[1;33m.\u001b[0m\u001b[0mfind_element\u001b[0m\u001b[1;33m(\u001b[0m\u001b[0mby\u001b[0m\u001b[1;33m=\u001b[0m\u001b[0mBy\u001b[0m\u001b[1;33m.\u001b[0m\u001b[0mCSS_SELECTOR\u001b[0m\u001b[1;33m,\u001b[0m \u001b[0mvalue\u001b[0m\u001b[1;33m=\u001b[0m\u001b[0mcss_selector\u001b[0m\u001b[1;33m)\u001b[0m\u001b[1;33m\u001b[0m\u001b[1;33m\u001b[0m\u001b[0m\n\u001b[0m\u001b[0;32m    803\u001b[0m \u001b[1;33m\u001b[0m\u001b[0m\n\u001b[0;32m    804\u001b[0m     \u001b[1;32mdef\u001b[0m \u001b[0mfind_elements_by_css_selector\u001b[0m\u001b[1;33m(\u001b[0m\u001b[0mself\u001b[0m\u001b[1;33m,\u001b[0m \u001b[0mcss_selector\u001b[0m\u001b[1;33m)\u001b[0m \u001b[1;33m->\u001b[0m \u001b[0mWebElement\u001b[0m\u001b[1;33m:\u001b[0m\u001b[1;33m\u001b[0m\u001b[1;33m\u001b[0m\u001b[0m\n",
      "\u001b[1;32mC:\\ProgramData\\Anaconda3\\lib\\site-packages\\selenium\\webdriver\\remote\\webdriver.py\u001b[0m in \u001b[0;36mfind_element\u001b[1;34m(self, by, value)\u001b[0m\n\u001b[0;32m   1236\u001b[0m             \u001b[0mvalue\u001b[0m \u001b[1;33m=\u001b[0m \u001b[1;34m'[name=\"%s\"]'\u001b[0m \u001b[1;33m%\u001b[0m \u001b[0mvalue\u001b[0m\u001b[1;33m\u001b[0m\u001b[1;33m\u001b[0m\u001b[0m\n\u001b[0;32m   1237\u001b[0m \u001b[1;33m\u001b[0m\u001b[0m\n\u001b[1;32m-> 1238\u001b[1;33m         return self.execute(Command.FIND_ELEMENT, {\n\u001b[0m\u001b[0;32m   1239\u001b[0m             \u001b[1;34m'using'\u001b[0m\u001b[1;33m:\u001b[0m \u001b[0mby\u001b[0m\u001b[1;33m,\u001b[0m\u001b[1;33m\u001b[0m\u001b[1;33m\u001b[0m\u001b[0m\n\u001b[0;32m   1240\u001b[0m             'value': value})['value']\n",
      "\u001b[1;32mC:\\ProgramData\\Anaconda3\\lib\\site-packages\\selenium\\webdriver\\remote\\webdriver.py\u001b[0m in \u001b[0;36mexecute\u001b[1;34m(self, driver_command, params)\u001b[0m\n\u001b[0;32m    416\u001b[0m         \u001b[0mresponse\u001b[0m \u001b[1;33m=\u001b[0m \u001b[0mself\u001b[0m\u001b[1;33m.\u001b[0m\u001b[0mcommand_executor\u001b[0m\u001b[1;33m.\u001b[0m\u001b[0mexecute\u001b[0m\u001b[1;33m(\u001b[0m\u001b[0mdriver_command\u001b[0m\u001b[1;33m,\u001b[0m \u001b[0mparams\u001b[0m\u001b[1;33m)\u001b[0m\u001b[1;33m\u001b[0m\u001b[1;33m\u001b[0m\u001b[0m\n\u001b[0;32m    417\u001b[0m         \u001b[1;32mif\u001b[0m \u001b[0mresponse\u001b[0m\u001b[1;33m:\u001b[0m\u001b[1;33m\u001b[0m\u001b[1;33m\u001b[0m\u001b[0m\n\u001b[1;32m--> 418\u001b[1;33m             \u001b[0mself\u001b[0m\u001b[1;33m.\u001b[0m\u001b[0merror_handler\u001b[0m\u001b[1;33m.\u001b[0m\u001b[0mcheck_response\u001b[0m\u001b[1;33m(\u001b[0m\u001b[0mresponse\u001b[0m\u001b[1;33m)\u001b[0m\u001b[1;33m\u001b[0m\u001b[1;33m\u001b[0m\u001b[0m\n\u001b[0m\u001b[0;32m    419\u001b[0m             response['value'] = self._unwrap_value(\n\u001b[0;32m    420\u001b[0m                 response.get('value', None))\n",
      "\u001b[1;32mC:\\ProgramData\\Anaconda3\\lib\\site-packages\\selenium\\webdriver\\remote\\errorhandler.py\u001b[0m in \u001b[0;36mcheck_response\u001b[1;34m(self, response)\u001b[0m\n\u001b[0;32m    241\u001b[0m                 \u001b[0malert_text\u001b[0m \u001b[1;33m=\u001b[0m \u001b[0mvalue\u001b[0m\u001b[1;33m[\u001b[0m\u001b[1;34m'alert'\u001b[0m\u001b[1;33m]\u001b[0m\u001b[1;33m.\u001b[0m\u001b[0mget\u001b[0m\u001b[1;33m(\u001b[0m\u001b[1;34m'text'\u001b[0m\u001b[1;33m)\u001b[0m\u001b[1;33m\u001b[0m\u001b[1;33m\u001b[0m\u001b[0m\n\u001b[0;32m    242\u001b[0m             \u001b[1;32mraise\u001b[0m \u001b[0mexception_class\u001b[0m\u001b[1;33m(\u001b[0m\u001b[0mmessage\u001b[0m\u001b[1;33m,\u001b[0m \u001b[0mscreen\u001b[0m\u001b[1;33m,\u001b[0m \u001b[0mstacktrace\u001b[0m\u001b[1;33m,\u001b[0m \u001b[0malert_text\u001b[0m\u001b[1;33m)\u001b[0m  \u001b[1;31m# type: ignore[call-arg]  # mypy is not smart enough here\u001b[0m\u001b[1;33m\u001b[0m\u001b[1;33m\u001b[0m\u001b[0m\n\u001b[1;32m--> 243\u001b[1;33m         \u001b[1;32mraise\u001b[0m \u001b[0mexception_class\u001b[0m\u001b[1;33m(\u001b[0m\u001b[0mmessage\u001b[0m\u001b[1;33m,\u001b[0m \u001b[0mscreen\u001b[0m\u001b[1;33m,\u001b[0m \u001b[0mstacktrace\u001b[0m\u001b[1;33m)\u001b[0m\u001b[1;33m\u001b[0m\u001b[1;33m\u001b[0m\u001b[0m\n\u001b[0m\u001b[0;32m    244\u001b[0m \u001b[1;33m\u001b[0m\u001b[0m\n\u001b[0;32m    245\u001b[0m     \u001b[1;32mdef\u001b[0m \u001b[0m_value_or_default\u001b[0m\u001b[1;33m(\u001b[0m\u001b[0mself\u001b[0m\u001b[1;33m,\u001b[0m \u001b[0mobj\u001b[0m\u001b[1;33m:\u001b[0m \u001b[0mMapping\u001b[0m\u001b[1;33m[\u001b[0m\u001b[0m_KT\u001b[0m\u001b[1;33m,\u001b[0m \u001b[0m_VT\u001b[0m\u001b[1;33m]\u001b[0m\u001b[1;33m,\u001b[0m \u001b[0mkey\u001b[0m\u001b[1;33m:\u001b[0m \u001b[0m_KT\u001b[0m\u001b[1;33m,\u001b[0m \u001b[0mdefault\u001b[0m\u001b[1;33m:\u001b[0m \u001b[0m_VT\u001b[0m\u001b[1;33m)\u001b[0m \u001b[1;33m->\u001b[0m \u001b[0m_VT\u001b[0m\u001b[1;33m:\u001b[0m\u001b[1;33m\u001b[0m\u001b[1;33m\u001b[0m\u001b[0m\n",
      "\u001b[1;31mNoSuchElementException\u001b[0m: Message: no such element: Unable to locate element: {\"method\":\"css selector\",\"selector\":\".a\"}\n  (Session info: chrome=95.0.4638.54)\nStacktrace:\nBacktrace:\n\tOrdinal0 [0x00B206F3+2492147]\n\tOrdinal0 [0x00AB9BD1+2071505]\n\tOrdinal0 [0x009C2478+1057912]\n\tOrdinal0 [0x009EC964+1231204]\n\tOrdinal0 [0x00A16B62+1403746]\n\tOrdinal0 [0x00A057FA+1333242]\n\tOrdinal0 [0x00A14F38+1396536]\n\tOrdinal0 [0x00A0568B+1332875]\n\tOrdinal0 [0x009E21D4+1188308]\n\tOrdinal0 [0x009E302F+1191983]\n\tGetHandleVerifier [0x00CA67A6+1545030]\n\tGetHandleVerifier [0x00D5105C+2243580]\n\tGetHandleVerifier [0x00BABC97+518199]\n\tGetHandleVerifier [0x00BAAD80+514336]\n\tOrdinal0 [0x00ABED2D+2092333]\n\tOrdinal0 [0x00AC2EE8+2109160]\n\tOrdinal0 [0x00AC3022+2109474]\n\tOrdinal0 [0x00ACCB71+2149233]\n\tBaseThreadInitThunk [0x76A1FA29+25]\n\tRtlGetAppContainerNamedObjectPath [0x774E7A9E+286]\n\tRtlGetAppContainerNamedObjectPath [0x774E7A6E+238]\n"
     ]
    }
   ],
   "source": [
    "driver.find_element_by_css_selector('.a')"
   ]
  },
  {
   "cell_type": "markdown",
   "id": "8383351c",
   "metadata": {},
   "source": [
    "# 마우스 제어"
   ]
  },
  {
   "cell_type": "code",
   "execution_count": 12,
   "id": "f47756ff",
   "metadata": {},
   "outputs": [
    {
     "name": "stderr",
     "output_type": "stream",
     "text": [
      "<ipython-input-12-d8373690959b>:7: DeprecationWarning: find_element_by_* commands are deprecated. Please use find_element() instead\n",
      "  selected = driver.find_element_by_css_selector('div.p a')\n"
     ]
    },
    {
     "name": "stdout",
     "output_type": "stream",
     "text": [
      "<selenium.webdriver.remote.webelement.WebElement (session=\"42f12b2cb1fe6c8e17d7ff8da6bb6110\", element=\"2cca156e-6ac6-4380-aa70-0d269ea259da\")>\n",
      "[programming] [react] react 작업환경 설\n"
     ]
    }
   ],
   "source": [
    "url = 'http://pjt3591oo.github.io'\n",
    "\n",
    "driver = webdriver.Chrome('chromedriver')\n",
    "\n",
    "driver.get(url)\n",
    "\n",
    "selected = driver.find_element_by_css_selector('div.p a')\n",
    "\n",
    "print(selected)\n",
    "print(selected.text)\n",
    "\n",
    "selected.click()"
   ]
  },
  {
   "cell_type": "code",
   "execution_count": 13,
   "id": "c230e25e",
   "metadata": {
    "scrolled": true
   },
   "outputs": [
    {
     "name": "stderr",
     "output_type": "stream",
     "text": [
      "<ipython-input-13-c084058e9f6c>:7: DeprecationWarning: find_elements_by_* commands are deprecated. Please use find_elements() instead\n",
      "  selected = driver.find_elements_by_css_selector('a')\n"
     ]
    },
    {
     "name": "stdout",
     "output_type": "stream",
     "text": [
      "Home a\n"
     ]
    },
    {
     "ename": "StaleElementReferenceException",
     "evalue": "Message: stale element reference: element is not attached to the page document\n  (Session info: chrome=95.0.4638.54)\nStacktrace:\nBacktrace:\n\tOrdinal0 [0x00B206F3+2492147]\n\tOrdinal0 [0x00AB9BD1+2071505]\n\tOrdinal0 [0x009C2478+1057912]\n\tOrdinal0 [0x009C4BA4+1067940]\n\tOrdinal0 [0x009C4A6E+1067630]\n\tOrdinal0 [0x009C4CD0+1068240]\n\tOrdinal0 [0x009E83F0+1213424]\n\tOrdinal0 [0x00A057C3+1333187]\n\tOrdinal0 [0x009E3466+1193062]\n\tOrdinal0 [0x00A058AA+1333418]\n\tOrdinal0 [0x00A14F38+1396536]\n\tOrdinal0 [0x00A0568B+1332875]\n\tOrdinal0 [0x009E21D4+1188308]\n\tOrdinal0 [0x009E302F+1191983]\n\tGetHandleVerifier [0x00CA67A6+1545030]\n\tGetHandleVerifier [0x00D5105C+2243580]\n\tGetHandleVerifier [0x00BABC97+518199]\n\tGetHandleVerifier [0x00BAAD80+514336]\n\tOrdinal0 [0x00ABED2D+2092333]\n\tOrdinal0 [0x00AC2EE8+2109160]\n\tOrdinal0 [0x00AC3022+2109474]\n\tOrdinal0 [0x00ACCB71+2149233]\n\tBaseThreadInitThunk [0x76A1FA29+25]\n\tRtlGetAppContainerNamedObjectPath [0x774E7A9E+286]\n\tRtlGetAppContainerNamedObjectPath [0x774E7A6E+238]\n",
     "output_type": "error",
     "traceback": [
      "\u001b[1;31m---------------------------------------------------------------------------\u001b[0m",
      "\u001b[1;31mStaleElementReferenceException\u001b[0m            Traceback (most recent call last)",
      "\u001b[1;32m<ipython-input-13-c084058e9f6c>\u001b[0m in \u001b[0;36m<module>\u001b[1;34m\u001b[0m\n\u001b[0;32m      8\u001b[0m \u001b[1;33m\u001b[0m\u001b[0m\n\u001b[0;32m      9\u001b[0m \u001b[1;32mfor\u001b[0m \u001b[0mi\u001b[0m \u001b[1;32min\u001b[0m \u001b[0mselected\u001b[0m \u001b[1;33m:\u001b[0m\u001b[1;33m\u001b[0m\u001b[1;33m\u001b[0m\u001b[0m\n\u001b[1;32m---> 10\u001b[1;33m     \u001b[0mprint\u001b[0m\u001b[1;33m(\u001b[0m\u001b[0mi\u001b[0m\u001b[1;33m.\u001b[0m\u001b[0mtext\u001b[0m\u001b[1;33m,\u001b[0m \u001b[0mi\u001b[0m\u001b[1;33m.\u001b[0m\u001b[0mtag_name\u001b[0m\u001b[1;33m)\u001b[0m\u001b[1;33m\u001b[0m\u001b[1;33m\u001b[0m\u001b[0m\n\u001b[0m\u001b[0;32m     11\u001b[0m     \u001b[0mi\u001b[0m\u001b[1;33m.\u001b[0m\u001b[0mclick\u001b[0m\u001b[1;33m(\u001b[0m\u001b[1;33m)\u001b[0m\u001b[1;33m\u001b[0m\u001b[1;33m\u001b[0m\u001b[0m\n",
      "\u001b[1;32mC:\\ProgramData\\Anaconda3\\lib\\site-packages\\selenium\\webdriver\\remote\\webelement.py\u001b[0m in \u001b[0;36mtext\u001b[1;34m(self)\u001b[0m\n\u001b[0;32m     74\u001b[0m     \u001b[1;32mdef\u001b[0m \u001b[0mtext\u001b[0m\u001b[1;33m(\u001b[0m\u001b[0mself\u001b[0m\u001b[1;33m)\u001b[0m \u001b[1;33m->\u001b[0m \u001b[0mstr\u001b[0m\u001b[1;33m:\u001b[0m\u001b[1;33m\u001b[0m\u001b[1;33m\u001b[0m\u001b[0m\n\u001b[0;32m     75\u001b[0m         \u001b[1;34m\"\"\"The text of the element.\"\"\"\u001b[0m\u001b[1;33m\u001b[0m\u001b[1;33m\u001b[0m\u001b[0m\n\u001b[1;32m---> 76\u001b[1;33m         \u001b[1;32mreturn\u001b[0m \u001b[0mself\u001b[0m\u001b[1;33m.\u001b[0m\u001b[0m_execute\u001b[0m\u001b[1;33m(\u001b[0m\u001b[0mCommand\u001b[0m\u001b[1;33m.\u001b[0m\u001b[0mGET_ELEMENT_TEXT\u001b[0m\u001b[1;33m)\u001b[0m\u001b[1;33m[\u001b[0m\u001b[1;34m'value'\u001b[0m\u001b[1;33m]\u001b[0m\u001b[1;33m\u001b[0m\u001b[1;33m\u001b[0m\u001b[0m\n\u001b[0m\u001b[0;32m     77\u001b[0m \u001b[1;33m\u001b[0m\u001b[0m\n\u001b[0;32m     78\u001b[0m     \u001b[1;32mdef\u001b[0m \u001b[0mclick\u001b[0m\u001b[1;33m(\u001b[0m\u001b[0mself\u001b[0m\u001b[1;33m)\u001b[0m \u001b[1;33m->\u001b[0m \u001b[1;32mNone\u001b[0m\u001b[1;33m:\u001b[0m\u001b[1;33m\u001b[0m\u001b[1;33m\u001b[0m\u001b[0m\n",
      "\u001b[1;32mC:\\ProgramData\\Anaconda3\\lib\\site-packages\\selenium\\webdriver\\remote\\webelement.py\u001b[0m in \u001b[0;36m_execute\u001b[1;34m(self, command, params)\u001b[0m\n\u001b[0;32m    691\u001b[0m             \u001b[0mparams\u001b[0m \u001b[1;33m=\u001b[0m \u001b[1;33m{\u001b[0m\u001b[1;33m}\u001b[0m\u001b[1;33m\u001b[0m\u001b[1;33m\u001b[0m\u001b[0m\n\u001b[0;32m    692\u001b[0m         \u001b[0mparams\u001b[0m\u001b[1;33m[\u001b[0m\u001b[1;34m'id'\u001b[0m\u001b[1;33m]\u001b[0m \u001b[1;33m=\u001b[0m \u001b[0mself\u001b[0m\u001b[1;33m.\u001b[0m\u001b[0m_id\u001b[0m\u001b[1;33m\u001b[0m\u001b[1;33m\u001b[0m\u001b[0m\n\u001b[1;32m--> 693\u001b[1;33m         \u001b[1;32mreturn\u001b[0m \u001b[0mself\u001b[0m\u001b[1;33m.\u001b[0m\u001b[0m_parent\u001b[0m\u001b[1;33m.\u001b[0m\u001b[0mexecute\u001b[0m\u001b[1;33m(\u001b[0m\u001b[0mcommand\u001b[0m\u001b[1;33m,\u001b[0m \u001b[0mparams\u001b[0m\u001b[1;33m)\u001b[0m\u001b[1;33m\u001b[0m\u001b[1;33m\u001b[0m\u001b[0m\n\u001b[0m\u001b[0;32m    694\u001b[0m \u001b[1;33m\u001b[0m\u001b[0m\n\u001b[0;32m    695\u001b[0m     \u001b[1;32mdef\u001b[0m \u001b[0mfind_element\u001b[0m\u001b[1;33m(\u001b[0m\u001b[0mself\u001b[0m\u001b[1;33m,\u001b[0m \u001b[0mby\u001b[0m\u001b[1;33m=\u001b[0m\u001b[0mBy\u001b[0m\u001b[1;33m.\u001b[0m\u001b[0mID\u001b[0m\u001b[1;33m,\u001b[0m \u001b[0mvalue\u001b[0m\u001b[1;33m=\u001b[0m\u001b[1;32mNone\u001b[0m\u001b[1;33m)\u001b[0m\u001b[1;33m:\u001b[0m\u001b[1;33m\u001b[0m\u001b[1;33m\u001b[0m\u001b[0m\n",
      "\u001b[1;32mC:\\ProgramData\\Anaconda3\\lib\\site-packages\\selenium\\webdriver\\remote\\webdriver.py\u001b[0m in \u001b[0;36mexecute\u001b[1;34m(self, driver_command, params)\u001b[0m\n\u001b[0;32m    416\u001b[0m         \u001b[0mresponse\u001b[0m \u001b[1;33m=\u001b[0m \u001b[0mself\u001b[0m\u001b[1;33m.\u001b[0m\u001b[0mcommand_executor\u001b[0m\u001b[1;33m.\u001b[0m\u001b[0mexecute\u001b[0m\u001b[1;33m(\u001b[0m\u001b[0mdriver_command\u001b[0m\u001b[1;33m,\u001b[0m \u001b[0mparams\u001b[0m\u001b[1;33m)\u001b[0m\u001b[1;33m\u001b[0m\u001b[1;33m\u001b[0m\u001b[0m\n\u001b[0;32m    417\u001b[0m         \u001b[1;32mif\u001b[0m \u001b[0mresponse\u001b[0m\u001b[1;33m:\u001b[0m\u001b[1;33m\u001b[0m\u001b[1;33m\u001b[0m\u001b[0m\n\u001b[1;32m--> 418\u001b[1;33m             \u001b[0mself\u001b[0m\u001b[1;33m.\u001b[0m\u001b[0merror_handler\u001b[0m\u001b[1;33m.\u001b[0m\u001b[0mcheck_response\u001b[0m\u001b[1;33m(\u001b[0m\u001b[0mresponse\u001b[0m\u001b[1;33m)\u001b[0m\u001b[1;33m\u001b[0m\u001b[1;33m\u001b[0m\u001b[0m\n\u001b[0m\u001b[0;32m    419\u001b[0m             response['value'] = self._unwrap_value(\n\u001b[0;32m    420\u001b[0m                 response.get('value', None))\n",
      "\u001b[1;32mC:\\ProgramData\\Anaconda3\\lib\\site-packages\\selenium\\webdriver\\remote\\errorhandler.py\u001b[0m in \u001b[0;36mcheck_response\u001b[1;34m(self, response)\u001b[0m\n\u001b[0;32m    241\u001b[0m                 \u001b[0malert_text\u001b[0m \u001b[1;33m=\u001b[0m \u001b[0mvalue\u001b[0m\u001b[1;33m[\u001b[0m\u001b[1;34m'alert'\u001b[0m\u001b[1;33m]\u001b[0m\u001b[1;33m.\u001b[0m\u001b[0mget\u001b[0m\u001b[1;33m(\u001b[0m\u001b[1;34m'text'\u001b[0m\u001b[1;33m)\u001b[0m\u001b[1;33m\u001b[0m\u001b[1;33m\u001b[0m\u001b[0m\n\u001b[0;32m    242\u001b[0m             \u001b[1;32mraise\u001b[0m \u001b[0mexception_class\u001b[0m\u001b[1;33m(\u001b[0m\u001b[0mmessage\u001b[0m\u001b[1;33m,\u001b[0m \u001b[0mscreen\u001b[0m\u001b[1;33m,\u001b[0m \u001b[0mstacktrace\u001b[0m\u001b[1;33m,\u001b[0m \u001b[0malert_text\u001b[0m\u001b[1;33m)\u001b[0m  \u001b[1;31m# type: ignore[call-arg]  # mypy is not smart enough here\u001b[0m\u001b[1;33m\u001b[0m\u001b[1;33m\u001b[0m\u001b[0m\n\u001b[1;32m--> 243\u001b[1;33m         \u001b[1;32mraise\u001b[0m \u001b[0mexception_class\u001b[0m\u001b[1;33m(\u001b[0m\u001b[0mmessage\u001b[0m\u001b[1;33m,\u001b[0m \u001b[0mscreen\u001b[0m\u001b[1;33m,\u001b[0m \u001b[0mstacktrace\u001b[0m\u001b[1;33m)\u001b[0m\u001b[1;33m\u001b[0m\u001b[1;33m\u001b[0m\u001b[0m\n\u001b[0m\u001b[0;32m    244\u001b[0m \u001b[1;33m\u001b[0m\u001b[0m\n\u001b[0;32m    245\u001b[0m     \u001b[1;32mdef\u001b[0m \u001b[0m_value_or_default\u001b[0m\u001b[1;33m(\u001b[0m\u001b[0mself\u001b[0m\u001b[1;33m,\u001b[0m \u001b[0mobj\u001b[0m\u001b[1;33m:\u001b[0m \u001b[0mMapping\u001b[0m\u001b[1;33m[\u001b[0m\u001b[0m_KT\u001b[0m\u001b[1;33m,\u001b[0m \u001b[0m_VT\u001b[0m\u001b[1;33m]\u001b[0m\u001b[1;33m,\u001b[0m \u001b[0mkey\u001b[0m\u001b[1;33m:\u001b[0m \u001b[0m_KT\u001b[0m\u001b[1;33m,\u001b[0m \u001b[0mdefault\u001b[0m\u001b[1;33m:\u001b[0m \u001b[0m_VT\u001b[0m\u001b[1;33m)\u001b[0m \u001b[1;33m->\u001b[0m \u001b[0m_VT\u001b[0m\u001b[1;33m:\u001b[0m\u001b[1;33m\u001b[0m\u001b[1;33m\u001b[0m\u001b[0m\n",
      "\u001b[1;31mStaleElementReferenceException\u001b[0m: Message: stale element reference: element is not attached to the page document\n  (Session info: chrome=95.0.4638.54)\nStacktrace:\nBacktrace:\n\tOrdinal0 [0x00B206F3+2492147]\n\tOrdinal0 [0x00AB9BD1+2071505]\n\tOrdinal0 [0x009C2478+1057912]\n\tOrdinal0 [0x009C4BA4+1067940]\n\tOrdinal0 [0x009C4A6E+1067630]\n\tOrdinal0 [0x009C4CD0+1068240]\n\tOrdinal0 [0x009E83F0+1213424]\n\tOrdinal0 [0x00A057C3+1333187]\n\tOrdinal0 [0x009E3466+1193062]\n\tOrdinal0 [0x00A058AA+1333418]\n\tOrdinal0 [0x00A14F38+1396536]\n\tOrdinal0 [0x00A0568B+1332875]\n\tOrdinal0 [0x009E21D4+1188308]\n\tOrdinal0 [0x009E302F+1191983]\n\tGetHandleVerifier [0x00CA67A6+1545030]\n\tGetHandleVerifier [0x00D5105C+2243580]\n\tGetHandleVerifier [0x00BABC97+518199]\n\tGetHandleVerifier [0x00BAAD80+514336]\n\tOrdinal0 [0x00ABED2D+2092333]\n\tOrdinal0 [0x00AC2EE8+2109160]\n\tOrdinal0 [0x00AC3022+2109474]\n\tOrdinal0 [0x00ACCB71+2149233]\n\tBaseThreadInitThunk [0x76A1FA29+25]\n\tRtlGetAppContainerNamedObjectPath [0x774E7A9E+286]\n\tRtlGetAppContainerNamedObjectPath [0x774E7A6E+238]\n"
     ]
    }
   ],
   "source": [
    "url = 'http://pjt3591oo.github.io'\n",
    "\n",
    "driver = webdriver.Chrome('chromedriver')\n",
    "\n",
    "driver.get(url)\n",
    "\n",
    "selected = driver.find_elements_by_css_selector('a')\n",
    "\n",
    "for i in selected :\n",
    "    print(i.text, i.tag_name)\n",
    "    i.click()"
   ]
  },
  {
   "cell_type": "markdown",
   "id": "3978b9f0",
   "metadata": {},
   "source": [
    "- 메인 페이지에서 돔트리를 불러오고 다른 페이지로 넘어가면 그 전에 가져온 페이지는 사용할 수 없게 됨\n",
    "\n",
    "- 따라서 click을 페이지 이동 용도로 사용하는 것은 가급적 피하는 것이 좋음\n",
    "\n",
    "- 페이지 변화 없이 페이지 내에서 데이터가 변화되는 경우에 사용하는 것을 권장"
   ]
  },
  {
   "cell_type": "markdown",
   "id": "c48980e6",
   "metadata": {},
   "source": [
    "# 키보드 제어"
   ]
  },
  {
   "cell_type": "code",
   "execution_count": 16,
   "id": "03d52486",
   "metadata": {},
   "outputs": [
    {
     "name": "stderr",
     "output_type": "stream",
     "text": [
      "<ipython-input-16-b04a16c294f7>:7: DeprecationWarning: find_element_by_* commands are deprecated. Please use find_element() instead\n",
      "  selected = driver.find_element_by_css_selector('input#search-box')\n"
     ]
    }
   ],
   "source": [
    "url = 'http://pjt3591oo.github.io/search'\n",
    "\n",
    "driver = webdriver.Chrome('chromedriver')\n",
    "\n",
    "driver.get(url)\n",
    "\n",
    "selected = driver.find_element_by_css_selector('input#search-box')\n",
    "\n",
    "selected.send_keys('db')\n",
    "selected.send_keys(Keys.ENTER)"
   ]
  },
  {
   "cell_type": "markdown",
   "id": "13d87039",
   "metadata": {},
   "source": [
    "# selenium과 bs4의 조합"
   ]
  },
  {
   "cell_type": "code",
   "execution_count": 17,
   "id": "5e7d9d9a",
   "metadata": {},
   "outputs": [],
   "source": [
    "from bs4 import BeautifulSoup"
   ]
  },
  {
   "cell_type": "markdown",
   "id": "b24cb058",
   "metadata": {},
   "source": [
    "- page_source : 현재 웹브라우저의 HTML 코드를 가져옴"
   ]
  },
  {
   "cell_type": "code",
   "execution_count": 18,
   "id": "a58c4e03",
   "metadata": {},
   "outputs": [
    {
     "name": "stderr",
     "output_type": "stream",
     "text": [
      "<ipython-input-18-a02ff5c255f5>:7: DeprecationWarning: find_element_by_* commands are deprecated. Please use find_element() instead\n",
      "  selected = driver.find_element_by_css_selector('input#search-box')\n"
     ]
    },
    {
     "name": "stdout",
     "output_type": "stream",
     "text": [
      "Javascript Asynchronous, synchronous and Promise\n",
      "동기, 비동기 그리고 promiseAsynchronous(비동기) Code란 무엇일까? node를 접하지 않았다면 대부분의 개발자들은 동기방식의 코드에 익숙할 것이다. 다음 코드를 보면 이해하기 쉬울 것이다.void FTest(){    for(int i = 0 ; i...\n",
      "Structure aiohttp Of python\n",
      "  내용을 시작하기 앞서 python에 하면 가장 많이 떠오르는 서버 프레임워크로는 django나 flask가 있을 것이다.하지만 블로그 주인놈은 특정 프로젝트에서 굉장히 빠른 응답속도를 내야하는 API서버를 구축을 하여야 하는 상황이 있었다.이때 굉장히 많은 서버 프...\n",
      "mysqldump를 이용하여 데이터 백업, 복원하기\n",
      "로컬 서버에 있는 디비를 분리하기 위해 기존의 디비에 있는 데이터를 백업해야 하는 일이 생겼다. 방법은 많지만 mysqldump를 이용하여 해결을 하였다.mysqldump는 해당 내부의 데이터를 sql 문으로 전부 바꿔주는 역할을 하는 툴이다.mysqldump의 경우 ...\n",
      "sequelize - Migrations[번역]\n",
      "  시작 하기 앞서 해당 글은 sequelize document를 직접 번역함을 알립니다. 영어를 많이 잘하지 못하여 오역이 있을 수 있습니다.sequelize 2.0.0버전은 gulp 그리고 sequelize-cli와 gulp-sequelize 결합을 기반으로 새로운...\n",
      "Structure Express Of Node\n",
      "Express Frameexpress는 node.js에서 제공하는 프레임워크.express-genderator를 설치를 통해 express 프로젝트 생성이 가능하다.아래의 내용은 Mysql 혹은 MariaDB, MongoDb(mongodb모듈을 통해 로우단에서 mong...\n",
      "sequelize - Getting Started[번역]\n",
      "  시작 하기 앞서 해당 글은 sequelize document를 직접 번역함을 알립니다. 영어를 많이 잘하지 못하여 오역이 있을 수 있습니다.설치Sequelize는 NPM을 통하여 사용할 수 있다.$ npm install --save sequelize# 다음 중 하나...\n",
      "docker commends\n",
      "docker는 가상머신처럼 기존의 운영체제에서 다른 운영체제를 돌릴 수 있도록 해주는 기술입니다이번 포스팅에서는 도커의 명령어를 간단하게 정리를 해보도록 하겠습니다.  이미지 확인$ docker images  이미지 파일 내려받기$ docker pull [image] ...\n",
      "ubuntu에 php 개발환경 셋팅\n",
      "시작하기에 앞서서 필자는 docker에 ubuntu 16버전에서 셋팅을 하였습니다.ubuntu 설치 직후와 같은환경.APM설치ubuntu에 php환경을 셋팅을 해보도록 하곘습니다.도커에 우분투를 올린것은 우분투를 설치 직후와 같기때문에 패키지, apt-get을 업데이트...\n",
      "mysql 원격접속하는 방법\n",
      "database도 하나의 서버이기 때문에 외부에서 접속을 해야하는 경우가 있다.하지만 2가지의 이유로 접속이 불가능할 수 있다.1번째. db의 접속 ip를 제한했을 경우 이는 디비 자체에서 특정 ip대역만 접속을 허용하도록 설정하는 경우이다.2번째. 경우 유저의 접속 ...\n",
      "RDBMS vs NoSQL vs InMemory\n",
      "어제 뉴스를 보면서 사람은 하루에 약 2Gb의 데이터를 자동차는 사람보다 더 많은 데이터를 비행기는 테라 바이트에 가까울 정도로 생산을 해낸다는 기사를 보았습니다.저 또한 크롤러를 통해 하루에도 수많은 데이터를 만들어 내고 있습니다.그렇다면 저 수많은 데이터를 관리를 ...\n",
      "sequelize - Usage[번역]\n",
      "  시작 하기 앞서 해당 글은 sequelize document를 직접 번역함을 알립니다. 영어를 많이 잘하지 못하여 오역이 있을 수 있습니다.데이터 검색/ 발견발견하는 함수들은 데이터 베이스로부터 데이터를 조회하기 위한 함수이다. 그들은 객체를 반한하지 않는 대신에 ...\n"
     ]
    }
   ],
   "source": [
    "url = 'http://pjt3591oo.github.io/search'\n",
    "\n",
    "driver = webdriver.Chrome('chromedriver')\n",
    "\n",
    "driver.get(url)\n",
    "\n",
    "selected = driver.find_element_by_css_selector('input#search-box')\n",
    "\n",
    "selected.send_keys('db')\n",
    "selected.send_keys(Keys.ENTER)\n",
    "\n",
    "soup = BeautifulSoup(driver.page_source, 'lxml')\n",
    "\n",
    "items = soup.select('ul#search-results li')\n",
    "\n",
    "for item in items :\n",
    "    title = item.select_one('h3').text\n",
    "    description = item.select_one('p').text\n",
    "    \n",
    "    print(title)\n",
    "    print(description)"
   ]
  },
  {
   "cell_type": "markdown",
   "id": "c19ff428",
   "metadata": {},
   "source": [
    "# 네이버 검색"
   ]
  },
  {
   "cell_type": "code",
   "execution_count": 21,
   "id": "c1e4516d",
   "metadata": {},
   "outputs": [
    {
     "name": "stderr",
     "output_type": "stream",
     "text": [
      "<ipython-input-21-7294a54ad3e0>:10: DeprecationWarning: find_element_by_* commands are deprecated. Please use find_element() instead\n",
      "  search = driver.find_element_by_css_selector('input#query')\n",
      "<ipython-input-21-7294a54ad3e0>:16: DeprecationWarning: find_elements_by_* commands are deprecated. Please use find_elements() instead\n",
      "  posts = driver.find_elements_by_css_selector('a.lnk_tit')\n"
     ]
    }
   ],
   "source": [
    "url = 'http://www.naver.com'\n",
    "\n",
    "driver = webdriver.Chrome('chromedriver')\n",
    "\n",
    "# 페이지 이동\n",
    "driver.get(url)\n",
    "driver.implicitly_wait(3) # 묵시적 대기. 활성화를 최대 3초까지 기다림\n",
    "\n",
    "# 요소 찾기 - 검색창찾고 키 전송\n",
    "search = driver.find_element_by_css_selector('input#query')\n",
    "search.send_keys('고슴도치')\n",
    "search.send_keys(Keys.ENTER)\n",
    "driver.implicitly_wait(3)\n",
    "\n",
    "# 요소 찾기 - 지식백과에서 고슴도치 클릭\n",
    "posts = driver.find_elements_by_css_selector('a.lnk_tit')\n",
    "posts[1].click()"
   ]
  },
  {
   "cell_type": "code",
   "execution_count": 24,
   "id": "41629b12",
   "metadata": {},
   "outputs": [],
   "source": [
    "time.sleep(2)"
   ]
  },
  {
   "cell_type": "markdown",
   "id": "8a57f13f",
   "metadata": {},
   "source": [
    "# 스타벅스 매장 정보"
   ]
  },
  {
   "cell_type": "code",
   "execution_count": 28,
   "id": "b1a0ebe8",
   "metadata": {},
   "outputs": [
    {
     "name": "stderr",
     "output_type": "stream",
     "text": [
      "<ipython-input-28-6609c573ab9d>:8: DeprecationWarning: find_elements_by_* commands are deprecated. Please use find_elements() instead\n",
      "  sido = driver.find_elements_by_css_selector('a.set_sido_cd_btn')\n",
      "<ipython-input-28-6609c573ab9d>:13: DeprecationWarning: find_elements_by_* commands are deprecated. Please use find_elements() instead\n",
      "  gugun = driver.find_elements_by_css_selector('a.set_gugun_cd_btn')\n"
     ]
    },
    {
     "name": "stdout",
     "output_type": "stream",
     "text": [
      "사하장림DT  \n",
      "하단중앙  \n",
      "부산괴정역  \n",
      "부산동아대  \n",
      "을숙도강변DT  \n",
      "다대포DT  \n",
      "부산하단  \n",
      "다대포비치  \n"
     ]
    }
   ],
   "source": [
    "url = 'https://www.starbucks.co.kr/store/store_map.do?disp=locale'\n",
    "\n",
    "driver = webdriver.Chrome('chromedriver')\n",
    "\n",
    "driver.get(url)\n",
    "driver.implicitly_wait(3)\n",
    "\n",
    "sido = driver.find_elements_by_css_selector('a.set_sido_cd_btn')\n",
    "sido[5].click()\n",
    "\n",
    "driver.implicitly_wait(3)\n",
    "\n",
    "gugun = driver.find_elements_by_css_selector('a.set_gugun_cd_btn')\n",
    "gugun[10].click()\n",
    "time.sleep(1)\n",
    "\n",
    "soup = BeautifulSoup(driver.page_source, 'lxml')\n",
    "\n",
    "store = soup.select('li.quickResultLstCon strong')\n",
    "\n",
    "for i in store :\n",
    "    print(i.text)"
   ]
  },
  {
   "cell_type": "code",
   "execution_count": null,
   "id": "6549e2c9",
   "metadata": {},
   "outputs": [],
   "source": []
  }
 ],
 "metadata": {
  "kernelspec": {
   "display_name": "Python 3",
   "language": "python",
   "name": "python3"
  },
  "language_info": {
   "codemirror_mode": {
    "name": "ipython",
    "version": 3
   },
   "file_extension": ".py",
   "mimetype": "text/x-python",
   "name": "python",
   "nbconvert_exporter": "python",
   "pygments_lexer": "ipython3",
   "version": "3.8.8"
  }
 },
 "nbformat": 4,
 "nbformat_minor": 5
}
